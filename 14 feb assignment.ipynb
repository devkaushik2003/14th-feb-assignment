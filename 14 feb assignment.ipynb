{
 "cells": [
  {
   "cell_type": "code",
   "execution_count": 5,
   "id": "7099ce31-d097-461f-92ef-7dc1c2d283bc",
   "metadata": {
    "tags": []
   },
   "outputs": [],
   "source": [
    "# what is multithreading in python? hy is it used? Name the module used to handle threads in python"
   ]
  },
  {
   "cell_type": "code",
   "execution_count": 6,
   "id": "174bd56a-f047-4b61-ba43-f5d52c977e67",
   "metadata": {
    "tags": []
   },
   "outputs": [],
   "source": [
    "# Multithreading in Python is the ability of a program to concurrently run multiple threads of execution within a single process.\n",
    "# Each thread can execute different parts of the program in parallel, making it possible to take advantage of the capabilities of \n",
    "# modern CPUs with multiple cores or processors.\n",
    "# The threading module is used to handle threads in Python."
   ]
  },
  {
   "cell_type": "code",
   "execution_count": 7,
   "id": "395f8eaf-8162-473c-8104-c1633098c706",
   "metadata": {
    "tags": []
   },
   "outputs": [],
   "source": [
    "# why threading module used?  write the use of the following functions\n",
    "# ( activeCount\n",
    "#  currentThread\n",
    "#  enumerate)"
   ]
  },
  {
   "cell_type": "code",
   "execution_count": 8,
   "id": "f46377bf-c1ab-4d14-ad51-3a6b40a8ccc0",
   "metadata": {
    "tags": []
   },
   "outputs": [],
   "source": [
    "# activeCount(): This function returns the number of active threads in the current Python interpreter.\n",
    "# An active thread is a thread that has been started and has not yet finished or been terminated.\n",
    "\n",
    "# currentThread(): This function returns a reference to the currently executing thread object. \n",
    "# This can be useful when you need to access information about the current thread, such as its name or ID.\n",
    "\n",
    "# enumerate(): This function returns a list of all Thread objects that are currently alive.\n",
    "# This can be useful when you need to iterate over all of the active threads in a program, for example,\n",
    "# to check their status or terminate them if necessary."
   ]
  },
  {
   "cell_type": "code",
   "execution_count": 10,
   "id": "7ff857e9-64d7-43bd-bcf2-ce0c866ade37",
   "metadata": {
    "tags": []
   },
   "outputs": [
    {
     "name": "stdout",
     "output_type": "stream",
     "text": [
      "Thread-8 (worker) starting\n",
      "Active threads: 8\n",
      "Thread objects: [<_MainThread(MainThread, started 29444)>, <Thread(IOPub, started daemon 21620)>, <Heartbeat(Heartbeat, started daemon 25848)>, <ControlThread(Control, started daemon 26524)>, <HistorySavingThread(IPythonHistorySavingThread, started 25280)>, <ParentPollerWindows(Thread-4, started daemon 20168)>, <Thread(Thread-8 (worker), started 28976)>, <Thread(Thread-9 (worker), initial)>]\n",
      "Thread-8 (worker) exiting\n",
      "Thread-9 (worker) starting\n",
      "Active threads: 7\n",
      "Thread objects: [<_MainThread(MainThread, started 29444)>, <Thread(IOPub, started daemon 21620)>, <Heartbeat(Heartbeat, started daemon 25848)>, <ControlThread(Control, started daemon 26524)>, <HistorySavingThread(IPythonHistorySavingThread, started 25280)>, <ParentPollerWindows(Thread-4, started daemon 20168)>, <Thread(Thread-9 (worker), started 30780)>]\n",
      "Thread-9 (worker) exiting\n",
      "Thread-10 (worker) starting\n",
      "Active threads: 7\n",
      "Thread objects: [<_MainThread(MainThread, started 29444)>, <Thread(IOPub, started daemon 21620)>, <Heartbeat(Heartbeat, started daemon 25848)>, <ControlThread(Control, started daemon 26524)>, <HistorySavingThread(IPythonHistorySavingThread, started 25280)>, <ParentPollerWindows(Thread-4, started daemon 20168)>, <Thread(Thread-10 (worker), started 31956)>]\n",
      "Thread-10 (worker) exiting\n"
     ]
    }
   ],
   "source": [
    "import threading\n",
    "\n",
    "def worker():\n",
    "    print(threading.current_thread().name, 'starting')\n",
    "    print('Active threads:', threading.active_count())\n",
    "    print('Thread objects:', threading.enumerate())\n",
    "    print(threading.current_thread().name, 'exiting')\n",
    "\n",
    "# create 3 worker threads\n",
    "for i in range(3):\n",
    "    t = threading.Thread(target=worker)\n",
    "    t.start()\n"
   ]
  },
  {
   "cell_type": "code",
   "execution_count": 11,
   "id": "05b2ed56-3d8a-4271-9e4d-bf6ffbd6790a",
   "metadata": {
    "tags": []
   },
   "outputs": [],
   "source": [
    "# Explain the following functions\n",
    "# ( run\n",
    "#  start\n",
    "#  join\n",
    "# ' isAlive)"
   ]
  },
  {
   "cell_type": "code",
   "execution_count": 12,
   "id": "e1e8357e-e68d-4d56-8811-38eeede3f680",
   "metadata": {
    "tags": []
   },
   "outputs": [],
   "source": [
    "# run(): This is the entry point for the thread's execution. You should override this method \n",
    "# in your custom Thread subclass to define the thread's behavior.\n",
    "\n",
    "# start(): This method starts the thread's execution. When called, it creates a new operating\n",
    "# system-level thread and calls the run() method of the Thread instance.\n",
    "\n",
    "# join([timeout]): This method blocks the calling thread until the thread whose join() method \n",
    "# is called terminates. If the optional timeout argument is specified, the method will block for at most that many seconds.\n",
    "\n",
    "# isAlive(): This method returns a Boolean indicating whether the thread is currently executing.\n",
    "# A thread is considered \"alive\" from the moment it is started until the moment it terminates."
   ]
  },
  {
   "cell_type": "code",
   "execution_count": 14,
   "id": "e4cadf6b-2ff4-4d13-b8c2-931b91ea9e86",
   "metadata": {
    "tags": []
   },
   "outputs": [
    {
     "name": "stdout",
     "output_type": "stream",
     "text": [
      "Thread 1 startingThread 2 starting\n",
      "Thread 2: 0\n",
      "Thread 2: 1\n",
      "Thread 2: 2\n",
      "Thread 2 exiting\n",
      "\n",
      "Thread 1: 0\n",
      "Thread 1: 1\n",
      "Thread 1: 2\n",
      "Thread 1: 3\n",
      "Thread 1: 4\n",
      "Thread 1 exiting\n"
     ]
    },
    {
     "ename": "AttributeError",
     "evalue": "'MyThread' object has no attribute 'isAlive'",
     "output_type": "error",
     "traceback": [
      "\u001b[1;31m---------------------------------------------------------------------------\u001b[0m",
      "\u001b[1;31mAttributeError\u001b[0m                            Traceback (most recent call last)",
      "Input \u001b[1;32mIn [14]\u001b[0m, in \u001b[0;36m<cell line: 27>\u001b[1;34m()\u001b[0m\n\u001b[0;32m     24\u001b[0m t2\u001b[38;5;241m.\u001b[39mjoin()\n\u001b[0;32m     26\u001b[0m \u001b[38;5;66;03m# Check if threads are alive\u001b[39;00m\n\u001b[1;32m---> 27\u001b[0m \u001b[38;5;28mprint\u001b[39m(\u001b[38;5;124mf\u001b[39m\u001b[38;5;124m\"\u001b[39m\u001b[38;5;124mIs \u001b[39m\u001b[38;5;132;01m{\u001b[39;00mt1\u001b[38;5;241m.\u001b[39mname\u001b[38;5;132;01m}\u001b[39;00m\u001b[38;5;124m alive? \u001b[39m\u001b[38;5;132;01m{\u001b[39;00mt1\u001b[38;5;241m.\u001b[39misAlive()\u001b[38;5;132;01m}\u001b[39;00m\u001b[38;5;124m\"\u001b[39m)\n\u001b[0;32m     28\u001b[0m \u001b[38;5;28mprint\u001b[39m(\u001b[38;5;124mf\u001b[39m\u001b[38;5;124m\"\u001b[39m\u001b[38;5;124mIs \u001b[39m\u001b[38;5;132;01m{\u001b[39;00mt2\u001b[38;5;241m.\u001b[39mname\u001b[38;5;132;01m}\u001b[39;00m\u001b[38;5;124m alive? \u001b[39m\u001b[38;5;132;01m{\u001b[39;00mt2\u001b[38;5;241m.\u001b[39misAlive()\u001b[38;5;132;01m}\u001b[39;00m\u001b[38;5;124m\"\u001b[39m)\n",
      "\u001b[1;31mAttributeError\u001b[0m: 'MyThread' object has no attribute 'isAlive'"
     ]
    }
   ],
   "source": [
    "import threading\n",
    "\n",
    "class MyThread(threading.Thread):\n",
    "    def __init__(self, name, count):\n",
    "        threading.Thread.__init__(self)\n",
    "        self.name = name\n",
    "        self.count = count\n",
    "        \n",
    "    def run(self):\n",
    "        print(f\"{self.name} starting\")\n",
    "        for i in range(self.count):\n",
    "            print(f\"{self.name}: {i}\")\n",
    "        print(f\"{self.name} exiting\")\n",
    "\n",
    "\n",
    "t1 = MyThread(\"Thread 1\", 5)\n",
    "t2 = MyThread(\"Thread 2\", 3)\n",
    "\n",
    "\n",
    "t1.start()\n",
    "t2.start()\n",
    "\n",
    "t1.join()\n",
    "t2.join()\n",
    "\n",
    "# Check if threads are alive\n",
    "print(f\"Is {t1.name} alive? {t1.isAlive()}\")\n",
    "print(f\"Is {t2.name} alive? {t2.isAlive()}\")\n"
   ]
  },
  {
   "cell_type": "code",
   "execution_count": null,
   "id": "c689dfb4-ead9-4f8d-a72f-9910cdf6fd2f",
   "metadata": {},
   "outputs": [],
   "source": [
    "\n",
    "    \n",
    "    \n",
    "    "
   ]
  },
  {
   "cell_type": "code",
   "execution_count": 15,
   "id": "823149b8-f9b6-4371-91a5-707f4be02e22",
   "metadata": {
    "tags": []
   },
   "outputs": [],
   "source": [
    "# Advantages of multithreading:\n",
    "\n",
    "# Improved performance: Multithreading can help improve the performance of a system by allowing it to perform multipl\\e \n",
    "# tasks simultaneously.\n",
    "# Resource sharing: Multithreading allows threads to share common resources such as memory and CPU time, reducing the overall resource usage and making the system more efficient.\n",
    "# Responsiveness: Multithreading can improve the responsiveness of a system by allowing it to respond to multiple events simultaneously, such as processing user input while also running background tasks.\n",
    "# Simplified design: Multithreading can simplify the design of a system by allowing it to be broken down into smaller, more manageable units of work.\n",
    "# Disadvantages of multithreading:\n",
    "\n",
    "# Complexity: Multithreading can introduce complexity into a system, especially when multiple threads need to access shared resources concurrently. This can lead to issues such as deadlocks, race conditions, and synchronization problems.\n",
    "# Overhead: Multithreading introduces additional overhead in terms of memory and CPU usage, which can sometimes outweigh the benefits of improved performance.\n",
    "# Debugging: Multithreaded programs can be difficult to debug because of the complexity introduced by multiple threads running concurrently.\n",
    "# Platform dependence: Multithreading is dependent on the underlying hardware and operating system, so it may not be portable across different platforms."
   ]
  },
  {
   "cell_type": "code",
   "execution_count": 16,
   "id": "fab00091-fca9-4141-a308-902158eea714",
   "metadata": {
    "tags": []
   },
   "outputs": [],
   "source": [
    "# Deadlocks: Deadlocks occur when two or more threads or processes are blocked and waiting for each other to release a resource\n",
    "# that they need to continue. This can happen when multiple threads try to access the same resources in a different order or when\n",
    "# a thread holds a resource for too long, preventing other threads from accessing it."
   ]
  },
  {
   "cell_type": "code",
   "execution_count": null,
   "id": "0c574619-6457-483b-9a81-e461a43ee1d8",
   "metadata": {},
   "outputs": [],
   "source": [
    "# Race conditions: Race conditions occur when the outcome of a program depends on the timing or order of events that are \n",
    "# not guaranteed to occur in a specific way. This can happen when multiple threads try to modify the same shared variable\n",
    "# or resource simultaneously without proper synchronization."
   ]
  }
 ],
 "metadata": {
  "kernelspec": {
   "display_name": "Python 3 (ipykernel)",
   "language": "python",
   "name": "python3"
  },
  "language_info": {
   "codemirror_mode": {
    "name": "ipython",
    "version": 3
   },
   "file_extension": ".py",
   "mimetype": "text/x-python",
   "name": "python",
   "nbconvert_exporter": "python",
   "pygments_lexer": "ipython3",
   "version": "3.10.0"
  }
 },
 "nbformat": 4,
 "nbformat_minor": 5
}
